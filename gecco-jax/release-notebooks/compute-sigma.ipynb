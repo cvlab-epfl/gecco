{
 "cells": [
  {
   "cell_type": "code",
   "execution_count": null,
   "id": "6c48b776",
   "metadata": {},
   "outputs": [],
   "source": [
    "import os\n",
    "\n",
    "import numpy as np\n",
    "import matplotlib.pyplot as plt\n",
    "import jax\n",
    "import jax.numpy as jnp\n",
    "from scipy.spatial.distance import cdist\n",
    "\n",
    "from gecco_jax.models.reparam import UVLReparam, GaussianReparam\n",
    "from gecco_jax import load_config"
   ]
  },
  {
   "cell_type": "code",
   "execution_count": null,
   "id": "5aa5b2b3",
   "metadata": {},
   "outputs": [],
   "source": [
    "path = '../../release-checkpoints/shapenet-vol'\n",
    "config_path = os.path.join(path, 'config.py')\n",
    "config = load_config(config_path)"
   ]
  },
  {
   "cell_type": "code",
   "execution_count": null,
   "id": "7273b603",
   "metadata": {},
   "outputs": [],
   "source": [
    "loader = config.make_train_loader()#[0]"
   ]
  },
  {
   "cell_type": "code",
   "execution_count": null,
   "id": "42cda9e5",
   "metadata": {},
   "outputs": [],
   "source": [
    "reference_reparam = GaussianReparam(\n",
    "    mean=jnp.zeros(3),\n",
    "    std=jnp.ones(3),\n",
    ")\n",
    "\n",
    "# reference_reparam = UVLReparam(\n",
    "#     # uvl_mean=jnp.zeros(3),\n",
    "#     # uvl_std=jnp.ones(3),\n",
    "# )"
   ]
  },
  {
   "cell_type": "code",
   "execution_count": null,
   "id": "f042be33",
   "metadata": {},
   "outputs": [],
   "source": [
    "def apply_reparam(reparam, examples):\n",
    "    reparametrized = []\n",
    "    for example in examples:\n",
    "        uvl = jax.vmap(reparam.data_to_diffusion, in_axes=(1, None), out_axes=1)(example.points, example.ctx)\n",
    "        reparametrized.append(np.asarray(uvl))\n",
    "\n",
    "    return np.concatenate(reparametrized, axis=0)"
   ]
  },
  {
   "cell_type": "code",
   "execution_count": null,
   "id": "c0a42239",
   "metadata": {},
   "outputs": [],
   "source": [
    "examples = []\n",
    "for i, example in enumerate(loader):\n",
    "    if i == 10:\n",
    "        break\n",
    "    \n",
    "    example = jax.tree_map(\n",
    "        lambda tensor: jax.device_put(tensor.numpy() if hasattr(tensor, 'numpy') else tensor),\n",
    "        example,\n",
    "    )\n",
    "    examples.append(example)"
   ]
  },
  {
   "cell_type": "code",
   "execution_count": null,
   "id": "b760f70b",
   "metadata": {},
   "outputs": [],
   "source": [
    "def plot_stats(reparametrized):\n",
    "    fig, ax = plt.subplots()\n",
    "    kw = dict(histtype='step', bins=np.linspace(reparametrized.min(), reparametrized.max(), 100))\n",
    "\n",
    "    reparametrized_flat = reparametrized.reshape(-1, reparametrized.shape[-1]).T\n",
    "    for data, label in zip(reparametrized_flat, ('x', 'y', 'z')):\n",
    "        mean = data.mean()\n",
    "        std = data.std()\n",
    "        \n",
    "        label = f'{label}: $\\mu=${mean:0.2f}, $\\sigma=${std:0.2f}'\n",
    "        ax.hist(data, label=label, **kw)\n",
    "\n",
    "    std = reparametrized_flat.std()\n",
    "    ax.set_title(f'$\\sigma={std:.2f}$')\n",
    "    fig.legend()\n",
    "\n",
    "    mean = reparametrized_flat.mean(axis=1)\n",
    "    std = reparametrized_flat.std(axis=1)\n",
    "\n",
    "    return mean, std"
   ]
  },
  {
   "cell_type": "code",
   "execution_count": null,
   "id": "1ec591ed",
   "metadata": {},
   "outputs": [],
   "source": [
    "reparametrized_reference = apply_reparam(reference_reparam, examples)\n",
    "mean, std = plot_stats(reparametrized_reference)"
   ]
  },
  {
   "cell_type": "code",
   "execution_count": null,
   "id": "6577500d",
   "metadata": {},
   "outputs": [],
   "source": [
    "adjusted_reparam = GaussianReparam(mean=mean, std=std)\n",
    "\n",
    "print(f'mean={adjusted_reparam.mean}, std={adjusted_reparam.std}')\n",
    "\n",
    "reparametrized_adjusted = apply_reparam(adjusted_reparam, examples)\n",
    "_ = plot_stats(reparametrized_adjusted)"
   ]
  },
  {
   "cell_type": "code",
   "execution_count": null,
   "id": "f268ca32",
   "metadata": {},
   "outputs": [],
   "source": [
    "reparametrized_adjusted_flat = reparametrized_adjusted.reshape(reparametrized_adjusted.shape[0], -1)\n",
    "p_distances = cdist(reparametrized_adjusted_flat, reparametrized_adjusted_flat)\n",
    "ixs = np.arange(p_distances.shape[0])\n",
    "p_distances[ixs, ixs] = -float('inf') # diagonal is not interesting"
   ]
  },
  {
   "cell_type": "code",
   "execution_count": null,
   "id": "e4b37c70",
   "metadata": {},
   "outputs": [],
   "source": [
    "_ = plt.hist(p_distances.flatten(), bins=np.linspace(0, np.nanmax(p_distances), 100), log=True)"
   ]
  },
  {
   "cell_type": "code",
   "execution_count": null,
   "id": "ce6de191",
   "metadata": {},
   "outputs": [],
   "source": [
    "xs, ys = np.where(p_distances > np.quantile(p_distances.flatten(), 0.99))\n",
    "permutation = np.random.permutation(xs.shape[0])\n",
    "xs = xs[permutation]\n",
    "ys = ys[permutation]"
   ]
  },
  {
   "cell_type": "code",
   "execution_count": null,
   "id": "5cfd3c9e",
   "metadata": {},
   "outputs": [],
   "source": [
    "import k3d\n",
    "\n",
    "ps = 0.1\n",
    "plot = k3d.plot()\n",
    "plot += k3d.points(reparametrized_adjusted[xs[0]], point_size=ps, color=0xff0000)\n",
    "plot += k3d.points(reparametrized_adjusted[ys[0]], point_size=ps, color=0x00ff00)\n",
    "plot.display()"
   ]
  },
  {
   "cell_type": "code",
   "execution_count": null,
   "id": "86060f2d",
   "metadata": {},
   "outputs": [],
   "source": []
  },
  {
   "cell_type": "code",
   "execution_count": null,
   "id": "8e67b64f",
   "metadata": {},
   "outputs": [],
   "source": []
  }
 ],
 "metadata": {
  "kernelspec": {
   "display_name": "Python 3 (ipykernel)",
   "language": "python",
   "name": "python3"
  },
  "language_info": {
   "codemirror_mode": {
    "name": "ipython",
    "version": 3
   },
   "file_extension": ".py",
   "mimetype": "text/x-python",
   "name": "python",
   "nbconvert_exporter": "python",
   "pygments_lexer": "ipython3",
   "version": "3.10.6"
  }
 },
 "nbformat": 4,
 "nbformat_minor": 5
}
