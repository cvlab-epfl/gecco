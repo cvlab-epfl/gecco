{
 "cells": [
  {
   "cell_type": "code",
   "execution_count": null,
   "id": "13092cdf",
   "metadata": {
    "tags": []
   },
   "outputs": [],
   "source": [
    "import os\n",
    "\n",
    "import jax\n",
    "import k3d\n",
    "import numpy as np\n",
    "import equinox as eqx\n",
    "import mediapy\n",
    "\n",
    "from gecco_jax import load_config"
   ]
  },
  {
   "cell_type": "code",
   "execution_count": null,
   "id": "9abe196e",
   "metadata": {
    "tags": []
   },
   "outputs": [],
   "source": [
    "#path = '../../release-checkpoints/taskonomy'\n",
    "path = '../../release-checkpoints/shapenet-vol'\n",
    "#path = '../../release-checkpoints/shapenet-unconditional/chair'\n",
    "#path = '../../release-checkpoints/shapenet-unconditional/car'\n",
    "#path = '../../release-checkpoints/shapenet-unconditional/airplane'\n",
    "config_path = os.path.join(path, 'config.py')\n",
    " \n",
    "config = load_config(config_path)"
   ]
  },
  {
   "cell_type": "code",
   "execution_count": null,
   "id": "0c4c8e88",
   "metadata": {},
   "outputs": [],
   "source": [
    "dataloader,  = config.make_val_loader()\n",
    "dataset = dataloader.dataset"
   ]
  },
  {
   "cell_type": "code",
   "execution_count": null,
   "id": "6b2b9830",
   "metadata": {
    "tags": []
   },
   "outputs": [],
   "source": [
    "model = config.make_model(key=jax.random.PRNGKey(42))\n",
    "save_path = os.path.join(f'{path}/checkpoint', 'ema.eqx')\n",
    "model = eqx.tree_deserialise_leaves(save_path, like=model)\n",
    "model = eqx.tree_at( # set the default number of solver steps to 128\n",
    "    where=lambda m: m.schedule.n_solver_steps,\n",
    "    pytree=model,\n",
    "    replace=128,\n",
    ")\n",
    "model = eqx.tree_inference(model, True) # set model to eval mode"
   ]
  },
  {
   "cell_type": "code",
   "execution_count": null,
   "id": "064ea99c",
   "metadata": {},
   "outputs": [],
   "source": [
    "def sample_and_display(index: int, key=44):\n",
    "    '''\n",
    "    Takes the example `index` from the dataset, conditionally generates a sample and compares both visually\n",
    "    '''\n",
    "    xyz, ctx_raw, _ = jax.tree_map(lambda array: np.asarray(array), dataset[index].discard_extras())\n",
    "    \n",
    "    if ctx_raw:\n",
    "        mediapy.show_image(ctx_raw.image)\n",
    "    \n",
    "    sample = model.sample(xyz.shape, ctx_raw, n=1, key=jax.random.PRNGKey(key))\n",
    "    sample = np.asarray(sample)\n",
    "\n",
    "    kw = dict(point_size=0.05, shader='3d')\n",
    "\n",
    "    plot = k3d.plot()\n",
    "    plot += k3d.points(sample[0], color=0xff0000, **kw) # show the sample in red\n",
    "    plot += k3d.points(xyz, color=0x00ff00, **kw) # show the ground truth in green\n",
    "    plot.display() "
   ]
  },
  {
   "cell_type": "code",
   "execution_count": null,
   "id": "8062860a",
   "metadata": {},
   "outputs": [],
   "source": [
    "example_id = 100\n",
    "\n",
    "sample_and_display(example_id)"
   ]
  },
  {
   "cell_type": "code",
   "execution_count": null,
   "id": "6b0f5231-0133-40c4-bc2f-5c21a1292139",
   "metadata": {},
   "outputs": [],
   "source": [
    "def upsample(model, context, point_cloud, n_fold: int=50):\n",
    "    '''\n",
    "    Uses `model` to upsample the `point_cloud` by `n_fold` times, using `context` as conditioning.\n",
    "    '''\n",
    "    # split the input point cloud into two halves\n",
    "    known = point_cloud.reshape(2, -1, 3)\n",
    "    \n",
    "    # define a function that inpaints one half\n",
    "    def inpaint_one(known):\n",
    "        return model.sample_inpaint(\n",
    "            known,\n",
    "            raw_ctx=context,\n",
    "            n_completions=n_fold,\n",
    "            s_churn=0.5,\n",
    "            n_substeps=4,\n",
    "            m_to_inpaint=known.shape[0],\n",
    "            key=jax.random.PRNGKey(42),\n",
    "        )\n",
    "\n",
    "    # apply the function to both halves\n",
    "    samples = jax.vmap(inpaint_one)(known)\n",
    "\n",
    "    # fold the results into a single point cloud\n",
    "    return samples.reshape(-1, 3)\n",
    "\n",
    "def sample_and_upsample(model, key, context=None, n_fold=49):\n",
    "    '''\n",
    "    Samples a low res point cloud upsamples it and returns both.\n",
    "    '''\n",
    "    # sample a low-resolution point cloud\n",
    "    sample_low = model.sample_stochastic(\n",
    "        (2048, 3),\n",
    "        context,\n",
    "        key=jax.random.PRNGKey(key),\n",
    "        s_churn=0.5,\n",
    "    ).squeeze(0)\n",
    "    \n",
    "    # upsample it\n",
    "    sample_high = upsample(model, context, sample_low, n_fold=n_fold)\n",
    "    \n",
    "    # return both\n",
    "    return np.asarray(sample_low), np.asarray(sample_high)"
   ]
  },
  {
   "cell_type": "code",
   "execution_count": null,
   "id": "4996011a",
   "metadata": {},
   "outputs": [],
   "source": [
    "def show_upsampling(index: int, key=44):\n",
    "    '''\n",
    "    Takes the example `index` from the dataset, conditionally generates a low res sample,\n",
    "    upsamples it and compares both visually.\n",
    "    '''\n",
    "    xyz, ctx_raw, _ = jax.tree_map(lambda array: np.asarray(array), dataset[index].discard_extras())\n",
    " \n",
    "    if ctx_raw:\n",
    "        mediapy.show_image(ctx_raw.image)\n",
    "    \n",
    "    low_sample, high_sample = sample_and_upsample(model, key=key, context=ctx_raw, n_fold=10)\n",
    "\n",
    "    kw = dict(point_size=0.02, shader='3d')\n",
    "\n",
    "    plot = k3d.plot()\n",
    "\n",
    "    plot += k3d.points(low_sample, color=0x0000ff, **kw) # low res in blue\n",
    "    plot += k3d.points(high_sample, color=0xff0000, **kw) # high res in red\n",
    "    # plot += k3d.points(xyz, color=0x00ff00, **kw) # optional ground truth in green\n",
    "    plot.display()"
   ]
  },
  {
   "cell_type": "code",
   "execution_count": null,
   "id": "dda96d79",
   "metadata": {},
   "outputs": [],
   "source": [
    "show_upsampling(example_id)"
   ]
  },
  {
   "cell_type": "code",
   "execution_count": null,
   "id": "4fb54b3c",
   "metadata": {},
   "outputs": [],
   "source": []
  },
  {
   "cell_type": "code",
   "execution_count": null,
   "id": "4970ba5e",
   "metadata": {},
   "outputs": [],
   "source": []
  }
 ],
 "metadata": {
  "kernelspec": {
   "display_name": "Python 3 (ipykernel)",
   "language": "python",
   "name": "python3"
  },
  "language_info": {
   "codemirror_mode": {
    "name": "ipython",
    "version": 3
   },
   "file_extension": ".py",
   "mimetype": "text/x-python",
   "name": "python",
   "nbconvert_exporter": "python",
   "pygments_lexer": "ipython3",
   "version": "3.10.6"
  }
 },
 "nbformat": 4,
 "nbformat_minor": 5
}
